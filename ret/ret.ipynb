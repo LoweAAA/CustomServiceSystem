{
 "cells": [
  {
   "cell_type": "code",
   "execution_count": 1,
   "metadata": {
    "collapsed": true
   },
   "outputs": [],
   "source": [
    "import synonyms as syn\n",
    "import json\n",
    "import operator"
   ]
  },
  {
   "cell_type": "code",
   "execution_count": 2,
   "metadata": {
    "collapsed": true
   },
   "outputs": [],
   "source": [
    "# '''\n",
    "dataset ={\n",
    "    \"d\": {\n",
    "        \"d0\": [\"进水\"],\n",
    "        \"d1\": [\"电池\", \"进水\"]\n",
    "    },\n",
    "    \"c\": {\n",
    "        \"c0\": \"你好\",\n",
    "        \"c1\": \"早上好\"\n",
    "    }\n",
    "}\n",
    "# '''"
   ]
  },
  {
   "cell_type": "code",
   "execution_count": 3,
   "metadata": {
    "collapsed": true
   },
   "outputs": [],
   "source": [
    "class Retrieval:\n",
    "    Document_Key = \"d\"\n",
    "    Conversation_Key = \"c\"\n",
    "    __answer_sheet = {\n",
    "        'd0': '进水解决方案 ... 买过',\n",
    "        'd1': 'some stories',\n",
    "        'c0': '你好',\n",
    "        'c1': '早上好'\n",
    "    }\n",
    "    def __init__(self, dataset, household_d=0.9, household_c=0.9):\n",
    "        if type(dataset) is not dict:\n",
    "            raise TypeError(\"must be initialized by a object of dict type\")\n",
    "        if self.Document_Key not in dataset or self.Conversation_Key not in dataset:\n",
    "            raise ValueError(\"the object must contain both document key and conversation key\")\n",
    "        self.docs = dataset[self.Document_Key]\n",
    "        self.convs = dataset[self.Conversation_Key]\n",
    "        self.household_doc = household_d\n",
    "        self.household_conv = household_c\n",
    "    def __mean(self, numbers):\n",
    "        return float(sum(numbers)) / max(len(numbers), 1)\n",
    "    \n",
    "    def __max_id(self, items):\n",
    "        return max(items.iteritems(), key=operator.itemgetter(1))[0]\n",
    "\n",
    "    def evalQuery(self, q):\n",
    "        if type(q) is not str:\n",
    "            raise TypeError(\"query shall be type string\")\n",
    "        query_words = syn.seg(q)[0]\n",
    "        \n",
    "        # syn.compare(sen1, sen2, seg=False)\n",
    "        doc_scores = {}\n",
    "        conv_scores = {}\n",
    "        self.doc_matches = {}\n",
    "        self.conv_matches = {}\n",
    "        for doc_id, keys in self.docs.iteritems():\n",
    "            matches = [[syn.compare(keys[i], query_words[j], seg=False) for j in range(len(query_words))] for i in range(len(keys))]\n",
    "            self.doc_matches[doc_id] = matches\n",
    "            max_matches = [max(matches[i]) for i in range(len(matches))]\n",
    "            score = self.__mean(max_matches)\n",
    "            doc_scores[doc_id] = score    \n",
    "        doc_id_best = self.__max_id(doc_scores)\n",
    "        \n",
    "        for conv_id, conv_s in self.convs.iteritems():\n",
    "            matches = [syn.compare(conv_s, query_words[j], seg=False) for j in range(len(query_words))]\n",
    "            self.conv_matches[conv_id] = matches\n",
    "            score = max(matches)\n",
    "            conv_scores[conv_id] = score\n",
    "        conv_id_best = self.__max_id(conv_scores)\n",
    "        \n",
    "        #print doc_scores[doc_id_best], conv_scores[conv_id_best]\n",
    "        if  doc_scores[doc_id_best] > self.household_doc:\n",
    "            if conv_scores[conv_id_best] > self.household_conv: \n",
    "                return {self.Document_Key: doc_id_best, self.Conversation_Key: conv_id_best}\n",
    "            return {self.Document_Key: doc_id_best}\n",
    "        else :\n",
    "            if conv_scores[conv_id_best] > self.household_conv:\n",
    "                return {self.Conversation_Key: conv_id_best}\n",
    "        return {}\n",
    "    \n",
    "    def evalQuerys(self, qs):\n",
    "        if type(qs) is not list and type(qs) is not str:\n",
    "            raise TypeError(\"the argument shall be a list object constituted by strings or a string\")\n",
    "        if type(qs) is str:\n",
    "            qs = [qs]\n",
    "        return [self.evalQuery(qs[i]) for i in range(len(qs))]\n",
    "    \n",
    "    def __ans(self, q):\n",
    "        ans_arr = self.evalQuerys(q)\n",
    "        for ans in ans_arr:\n",
    "            if self.Conversation_Key in ans:\n",
    "                print self.__answer_sheet[ans[self.Conversation_Key]]\n",
    "            if self.Document_Key in ans:\n",
    "                print self.__answer_sheet[ans[self.Document_Key]]\n",
    "            else :\n",
    "                print 'There is nothing i can help you, Sorry'"
   ]
  },
  {
   "cell_type": "code",
   "execution_count": 4,
   "metadata": {},
   "outputs": [],
   "source": [
    "ret = Retrieval(dataset)\n",
    "query0 = \"早上好,我手机进水了\"\n",
    "query1 = \"你好,我手机进水了\"\n",
    "query2 = \"你好,我手机爆炸了\"\n",
    "query3 = \"操,我手机爆炸了\"\n",
    "query = [query0, query1, query2, query3]\n",
    "'''\n",
    "ret._Retrieval__ans(query0)\n",
    "ret._Retrieval__ans(query1)\n",
    "ret._Retrieval__ans(query2)\n",
    "ret._Retrieval__ans(query3)\n",
    "'''\n",
    "ret._Retrieval__ans(query)"
   ]
  },
  {
   "cell_type": "code",
   "execution_count": 16,
   "metadata": {
    "collapsed": true
   },
   "outputs": [],
   "source": [
    "print ret.doc_matches\n",
    "print ret.conv_matches"
   ]
  },
  {
   "cell_type": "code",
   "execution_count": null,
   "metadata": {
    "collapsed": true
   },
   "outputs": [],
   "source": []
  }
 ],
 "metadata": {
  "kernelspec": {
   "display_name": "Python 2",
   "language": "python",
   "name": "python2"
  },
  "language_info": {
   "codemirror_mode": {
    "name": "ipython",
    "version": 2
   },
   "file_extension": ".py",
   "mimetype": "text/x-python",
   "name": "python",
   "nbconvert_exporter": "python",
   "pygments_lexer": "ipython2",
   "version": "2.7.13"
  }
 },
 "nbformat": 4,
 "nbformat_minor": 2
}
