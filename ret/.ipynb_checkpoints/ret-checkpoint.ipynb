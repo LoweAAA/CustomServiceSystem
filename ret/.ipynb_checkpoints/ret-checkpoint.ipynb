{
 "cells": [
  {
   "cell_type": "code",
   "execution_count": 11,
   "metadata": {
    "collapsed": true
   },
   "outputs": [],
   "source": [
    "import synonyms as syn\n",
    "import json\n",
    "import operator"
   ]
  },
  {
   "cell_type": "code",
   "execution_count": 41,
   "metadata": {
    "collapsed": true
   },
   "outputs": [],
   "source": [
    "class Retrieval:\n",
    "    Document_Key = \"d\"\n",
    "    Conversation_Key = \"c\"\n",
    "    __answer_sheet = {\n",
    "        'd0': '进水解决方案 ... 买过',\n",
    "        'd1': 'some stories',\n",
    "        'c0': '你好',\n",
    "        'c1': '早上好'\n",
    "    }\n",
    "    def __init__(self, dataset=None, household_d=0.9, household_c=0.9):\n",
    "        if dataset is not None and type(dataset) is not dict:\n",
    "            raise TypeError(\"must be initialized by a object of dict type\")\n",
    "        if dataset is not None:\n",
    "            if self.Document_Key not in dataset or self.Conversation_Key not in dataset:\n",
    "                raise ValueError(\"the object must contain both document key and conversation key\")\n",
    "            self.docs = dataset[self.Document_Key]\n",
    "            self.convs = dataset[self.Conversation_Key]\n",
    "        self.household_doc = household_d\n",
    "        self.household_conv = household_c\n",
    "    def setDataset(self, dataset):\n",
    "        if type(dataset) is not dict:\n",
    "            raise TypeError(\"must be initialized by a object of dict type\")\n",
    "        self.docs = dataset[self.Document_Key]\n",
    "        self.convs = dataset[self.Conversation_Key]\n",
    "    def __mean(self, numbers):\n",
    "        return float(sum(numbers)) / max(len(numbers), 1)\n",
    "    \n",
    "    def __max_id(self, items):\n",
    "        return max(items.iteritems(), key=operator.itemgetter(1))[0]\n",
    "\n",
    "    def evalQuery(self, q):\n",
    "        if self.docs is None or self.convs is None:\n",
    "            raise ValueError(\"setDataset shall be called first\")\n",
    "        if type(q) is not str and type(q) is not unicode:\n",
    "            raise TypeError(\"query shall be type string\")\n",
    "        query_words = syn.seg(q)[0]\n",
    "        \n",
    "        # syn.compare(sen1, sen2, seg=False)\n",
    "        doc_scores = {}\n",
    "        conv_scores = {}\n",
    "        self.doc_matches = {}\n",
    "        self.conv_matches = {}\n",
    "        for doc_id, keys in self.docs.iteritems():\n",
    "            matches = [[syn.compare(keys[i], query_words[j], seg=False) for j in range(len(query_words))] for i in range(len(keys))]\n",
    "            self.doc_matches[doc_id] = matches\n",
    "            max_matches = [max(matches[i]) for i in range(len(matches))]\n",
    "            score = self.__mean(max_matches)\n",
    "            doc_scores[doc_id] = score    \n",
    "        doc_id_best = self.__max_id(doc_scores)\n",
    "        \n",
    "        for conv_id, conv_s in self.convs.iteritems():\n",
    "            matches = [syn.compare(conv_s, query_words[j], seg=False) for j in range(len(query_words))]\n",
    "            self.conv_matches[conv_id] = matches\n",
    "            score = max(matches)\n",
    "            conv_scores[conv_id] = score\n",
    "        conv_id_best = self.__max_id(conv_scores)\n",
    "        \n",
    "        #print doc_scores[doc_id_best], conv_scores[conv_id_best]\n",
    "        if  doc_scores[doc_id_best] > self.household_doc:\n",
    "            if conv_scores[conv_id_best] > self.household_conv: \n",
    "                return {self.Document_Key: doc_id_best, self.Conversation_Key: conv_id_best}\n",
    "            return {self.Document_Key: doc_id_best}\n",
    "        else :\n",
    "            if conv_scores[conv_id_best] > self.household_conv:\n",
    "                return {self.Conversation_Key: conv_id_best}\n",
    "        return {}\n",
    "    \n",
    "    def evalQuerys(self, qs):\n",
    "        if type(qs) is not list and type(qs) is not str and type(qs) is not unicode:\n",
    "            raise TypeError(\"the argument shall be a list object constituted by strings or a string\")\n",
    "        if type(qs) is str or type(qs) is unicode:\n",
    "            qs = [qs]\n",
    "        return [self.evalQuery(qs[i]) for i in range(len(qs))]\n",
    "    \n",
    "    def __ans(self, qs):\n",
    "        ans_arr = self.evalQuerys(qs)\n",
    "        ans_ss = []\n",
    "        for i in range(len(qs)):\n",
    "            ans = ans_arr[i]\n",
    "            ans_s = ''\n",
    "            if self.Conversation_Key in ans:\n",
    "                ans_s += self.__answer_sheet[ans[self.Conversation_Key]]\n",
    "            if self.Document_Key in ans:\n",
    "                if ans_s is not '':\n",
    "                    ans_s += ','\n",
    "                ans_s += self.__answer_sheet[ans[self.Document_Key]]\n",
    "            else :\n",
    "                if ans_s is not '':\n",
    "                    ans_s += ','\n",
    "                ans_s += 'There is nothing i can help you, Sorry'\n",
    "            ans_ss.append(ans_s)\n",
    "        return {'a': ans_ss}"
   ]
  },
  {
   "cell_type": "code",
   "execution_count": 43,
   "metadata": {},
   "outputs": [],
   "source": [
    "class HttpRequestParser:\n",
    "    def __init__(self):\n",
    "        self.reset()\n",
    "    def reset(self):\n",
    "        self.header = {}\n",
    "        self.data = ''\n",
    "        self.wait = ''\n",
    "        self.got = False\n",
    "    def check(self):\n",
    "        CL = int(self.header['Content-Length:'])\n",
    "        if len(self.data) == CL:\n",
    "            return True\n",
    "        if len(self.data) > CL:\n",
    "            raise ValueError('unexpected data')\n",
    "        return False\n",
    "    def feed(self, data):\n",
    "        if not self.got:\n",
    "            data = self.wait + data\n",
    "            while 1:\n",
    "                pos = data.find('\\r\\n')\n",
    "                if pos < 0:\n",
    "                    self.wait = data\n",
    "                    return False\n",
    "                elif pos > 0:\n",
    "                    mes = data[0:pos].split(' ')\n",
    "                    self.header[mes[0]] = mes[1]\n",
    "                    data = data[pos+2:]\n",
    "                else:\n",
    "                    self.got = True\n",
    "                    self.data = data[pos+2:]\n",
    "                    break\n",
    "        else:\n",
    "            self.data += data\n",
    "        return self.check()"
   ]
  },
  {
   "cell_type": "code",
   "execution_count": 3,
   "metadata": {},
   "outputs": [
    {
     "name": "stdout",
     "output_type": "stream",
     "text": [
      "Socket listening up to 5\n"
     ]
    }
   ],
   "source": [
    "import socket\n",
    "import sys\n",
    "\n",
    "HOST = ''\n",
    "PORT = 44442\n",
    "\n",
    "s = socket.socket(\n",
    "    socket.AF_INET, socket.SOCK_STREAM\n",
    ")\n",
    "\n",
    "try:\n",
    "    s.bind((HOST, PORT))\n",
    "except socket.error as msg:\n",
    "    print 'Bind failed. Error Code: ' + str(msg[0]) + ' Message ' + msg[1]\n",
    "    sys.exit()\n",
    "s.listen(5)\n",
    "print 'Socket listening up to 5'"
   ]
  },
  {
   "cell_type": "code",
   "execution_count": 49,
   "metadata": {},
   "outputs": [
    {
     "ename": "KeyboardInterrupt",
     "evalue": "",
     "output_type": "error",
     "traceback": [
      "\u001b[0;31m---------------------------------------------------------------------------\u001b[0m",
      "\u001b[0;31mKeyboardInterrupt\u001b[0m                         Traceback (most recent call last)",
      "\u001b[0;32m<ipython-input-49-8c4311384341>\u001b[0m in \u001b[0;36m<module>\u001b[0;34m()\u001b[0m\n\u001b[1;32m      2\u001b[0m \u001b[0mret\u001b[0m \u001b[0;34m=\u001b[0m \u001b[0mRetrieval\u001b[0m\u001b[0;34m(\u001b[0m\u001b[0;34m)\u001b[0m\u001b[0;34m\u001b[0m\u001b[0m\n\u001b[1;32m      3\u001b[0m \u001b[0;32mwhile\u001b[0m \u001b[0;36m1\u001b[0m\u001b[0;34m:\u001b[0m\u001b[0;34m\u001b[0m\u001b[0m\n\u001b[0;32m----> 4\u001b[0;31m     \u001b[0mconn\u001b[0m\u001b[0;34m,\u001b[0m \u001b[0maddr\u001b[0m \u001b[0;34m=\u001b[0m \u001b[0ms\u001b[0m\u001b[0;34m.\u001b[0m\u001b[0maccept\u001b[0m\u001b[0;34m(\u001b[0m\u001b[0;34m)\u001b[0m\u001b[0;34m\u001b[0m\u001b[0m\n\u001b[0m\u001b[1;32m      5\u001b[0m     \u001b[0;32mwhile\u001b[0m \u001b[0;36m1\u001b[0m\u001b[0;34m:\u001b[0m\u001b[0;34m\u001b[0m\u001b[0m\n\u001b[1;32m      6\u001b[0m         \u001b[0;32mprint\u001b[0m \u001b[0;34m'Collecting fragment'\u001b[0m\u001b[0;34m\u001b[0m\u001b[0m\n",
      "\u001b[0;32m/home/woop/Programs/anaconda2/lib/python2.7/socket.pyc\u001b[0m in \u001b[0;36maccept\u001b[0;34m(self)\u001b[0m\n\u001b[1;32m    204\u001b[0m \u001b[0;34m\u001b[0m\u001b[0m\n\u001b[1;32m    205\u001b[0m     \u001b[0;32mdef\u001b[0m \u001b[0maccept\u001b[0m\u001b[0;34m(\u001b[0m\u001b[0mself\u001b[0m\u001b[0;34m)\u001b[0m\u001b[0;34m:\u001b[0m\u001b[0;34m\u001b[0m\u001b[0m\n\u001b[0;32m--> 206\u001b[0;31m         \u001b[0msock\u001b[0m\u001b[0;34m,\u001b[0m \u001b[0maddr\u001b[0m \u001b[0;34m=\u001b[0m \u001b[0mself\u001b[0m\u001b[0;34m.\u001b[0m\u001b[0m_sock\u001b[0m\u001b[0;34m.\u001b[0m\u001b[0maccept\u001b[0m\u001b[0;34m(\u001b[0m\u001b[0;34m)\u001b[0m\u001b[0;34m\u001b[0m\u001b[0m\n\u001b[0m\u001b[1;32m    207\u001b[0m         \u001b[0;32mreturn\u001b[0m \u001b[0m_socketobject\u001b[0m\u001b[0;34m(\u001b[0m\u001b[0m_sock\u001b[0m\u001b[0;34m=\u001b[0m\u001b[0msock\u001b[0m\u001b[0;34m)\u001b[0m\u001b[0;34m,\u001b[0m \u001b[0maddr\u001b[0m\u001b[0;34m\u001b[0m\u001b[0m\n\u001b[1;32m    208\u001b[0m     \u001b[0maccept\u001b[0m\u001b[0;34m.\u001b[0m\u001b[0m__doc__\u001b[0m \u001b[0;34m=\u001b[0m \u001b[0m_realsocket\u001b[0m\u001b[0;34m.\u001b[0m\u001b[0maccept\u001b[0m\u001b[0;34m.\u001b[0m\u001b[0m__doc__\u001b[0m\u001b[0;34m\u001b[0m\u001b[0m\n",
      "\u001b[0;31mKeyboardInterrupt\u001b[0m: "
     ]
    }
   ],
   "source": [
    "parser = HttpRequestParser()\n",
    "ret = Retrieval()\n",
    "while 1:\n",
    "    conn, addr = s.accept()\n",
    "    while 1:\n",
    "        print 'Collecting fragment'\n",
    "        frag = conn.recv(4096)\n",
    "        if parser.feed(frag): break\n",
    "    print 'Connected with ' + addr[0] + ':' + str(addr[1])\n",
    "    dataset = json.loads(parser.data)\n",
    "    parser.reset()\n",
    "    query = dataset['q']\n",
    "    ret.setDataset(dataset)\n",
    "    res_data = json.dumps(ret._Retrieval__ans(query))\n",
    "    res_header = 'HTTP/1.1 200 OK\\r\\nContent-Length: ' + str(len(res_data)) + '\\r\\nConnection: close\\r\\n'\n",
    "    res = res_header + '\\r\\n' + res_data\n",
    "    conn.sendall(res)\n",
    "    conn.close()\n"
   ]
  },
  {
   "cell_type": "code",
   "execution_count": null,
   "metadata": {
    "collapsed": true
   },
   "outputs": [],
   "source": []
  }
 ],
 "metadata": {
  "kernelspec": {
   "display_name": "Python 2",
   "language": "python",
   "name": "python2"
  },
  "language_info": {
   "codemirror_mode": {
    "name": "ipython",
    "version": 2
   },
   "file_extension": ".py",
   "mimetype": "text/x-python",
   "name": "python",
   "nbconvert_exporter": "python",
   "pygments_lexer": "ipython2",
   "version": "2.7.13"
  }
 },
 "nbformat": 4,
 "nbformat_minor": 2
}
