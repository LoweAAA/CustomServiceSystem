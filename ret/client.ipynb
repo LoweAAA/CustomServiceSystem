{
 "cells": [
  {
   "cell_type": "code",
   "execution_count": 44,
   "metadata": {},
   "outputs": [],
   "source": [
    "import json\n",
    "import urllib2\n",
    "\n",
    "data ={\n",
    "    \"d\": {\n",
    "        \"d0\": [\"进水\"],\n",
    "        \"d1\": [\"电池\", \"进水\"]\n",
    "    },\n",
    "    \"c\": {\n",
    "        \"c0\": \"你好\",\n",
    "        \"c1\": \"早上好\"\n",
    "    },\n",
    "    \"q\": [\n",
    "        \"早上好,我手机进水了\",\n",
    "        \"你好,我手机进水了\",\n",
    "        \"你好,我手机爆炸了\",\n",
    "        \"操,我手机爆炸了\"\n",
    "    ]\n",
    "}"
   ]
  },
  {
   "cell_type": "code",
   "execution_count": 49,
   "metadata": {},
   "outputs": [
    {
     "name": "stdout",
     "output_type": "stream",
     "text": [
      "Q:  早上好,我手机进水了\n",
      "A:  早上好,进水解决方案 ... 买过\n",
      "\n",
      "Q:  你好,我手机进水了\n",
      "A:  你好,进水解决方案 ... 买过\n",
      "\n",
      "Q:  你好,我手机爆炸了\n",
      "A:  你好,There is nothing i can help you, Sorry\n",
      "\n",
      "Q:  操,我手机爆炸了\n",
      "A:  There is nothing i can help you, Sorry\n",
      "\n"
     ]
    }
   ],
   "source": [
    "req = urllib2.Request('http://localhost:44442')\n",
    "req.add_header('Content-Type', 'application/json')\n",
    "\n",
    "res = urllib2.urlopen(req, json.dumps(data))\n",
    "\n",
    "ans = json.loads(res.read())['a']\n",
    "\n",
    "res.close()\n",
    "\n",
    "query = data['q']\n",
    "for i in range(len(query)):\n",
    "    print 'Q: ', query[i]\n",
    "    print 'A: ', ans[i]\n",
    "    print ''"
   ]
  },
  {
   "cell_type": "code",
   "execution_count": null,
   "metadata": {
    "collapsed": true
   },
   "outputs": [],
   "source": []
  }
 ],
 "metadata": {
  "kernelspec": {
   "display_name": "Python 2",
   "language": "python",
   "name": "python2"
  },
  "language_info": {
   "codemirror_mode": {
    "name": "ipython",
    "version": 2
   },
   "file_extension": ".py",
   "mimetype": "text/x-python",
   "name": "python",
   "nbconvert_exporter": "python",
   "pygments_lexer": "ipython2",
   "version": "2.7.13"
  }
 },
 "nbformat": 4,
 "nbformat_minor": 2
}
