{
 "cells": [
  {
   "cell_type": "code",
   "execution_count": null,
   "metadata": {
    "collapsed": true
   },
   "outputs": [],
   "source": [
    "import json\n",
    "import urllib2\n",
    "\n",
    "data = {\n",
    "    \"d\": {\n",
    "        \"d0\": [\"进水\"],\n",
    "        \"d1\": [\"电池\", \"进水\"]\n",
    "    },\n",
    "    \"c\": {\n",
    "        \"c0\": \"你好\",\n",
    "        \"c1\": \"早上好\"\n",
    "    },\n",
    "    \"q\": [\n",
    "        \"早上好,我手机进水了\",\n",
    "        \"你好,我手机进水了\",\n",
    "        \"你好,我手机爆炸了\",\n",
    "        \"操,我手机爆炸了\"\n",
    "    ]\n",
    "}\n",
    "d_data = { 'd': data['d'] }\n",
    "c_data = { 'c': data['c'] }\n",
    "q_data = { 'q': data['q'] }\n",
    "bad_data = 'hello world'"
   ]
  },
  {
   "cell_type": "code",
   "execution_count": null,
   "metadata": {},
   "outputs": [],
   "source": [
    "req_url = 'http://localhost:44442/?q=123&pid=456'\n",
    "req = urllib2.Request('http://localhost:44442')\n",
    "req.add_header('Content-Type', 'application/json')\n",
    "print \"Bad Query(didn't set dataset first):\"\n",
    "res = urllib2.urlopen(req_url, json.dumps(q_data))\n",
    "print '\\t' + res.read()\n",
    "res.close()\n",
    "print 'Normal Query:'\n",
    "res = urllib2.urlopen(req, json.dumps(data))\n",
    "# how do you process the retrival data\n",
    "ans = json.loads(res.read())['a']\n",
    "res.close()\n",
    "query = data['q']\n",
    "for i in range(len(query)):\n",
    "    print '\\tQ: ', query[i]\n",
    "    print '\\tA: ', ans[i]\n",
    "    print ''\n",
    "#print '\\t' + res.read()\n",
    "#res.close()\n",
    "print 'Bad Query(bad format):'\n",
    "res = urllib2.urlopen(req_url, json.dumps(bad_data))\n",
    "print '\\t' + res.read()\n",
    "res.close()"
   ]
  },
  {
   "cell_type": "code",
   "execution_count": null,
   "metadata": {},
   "outputs": [],
   "source": [
    "import MySQLdb\n",
    "\n",
    "db = MySQLdb.connect(host=\"118.25.100.232:3306\",\n",
    "                     user=\"root\",\n",
    "                     passwd=\"Aa123456\",\n",
    "                     db=\"CustomerSurvice\")\n",
    "\n",
    "cur = db.cursor()\n",
    "\n",
    "# cur.execute(\"\")\n",
    "\n",
    "db.close()"
   ]
  },
  {
   "cell_type": "code",
   "execution_count": null,
   "metadata": {
    "collapsed": true
   },
   "outputs": [],
   "source": []
  }
 ],
 "metadata": {
  "kernelspec": {
   "display_name": "Python 2",
   "language": "python",
   "name": "python2"
  },
  "language_info": {
   "codemirror_mode": {
    "name": "ipython",
    "version": 2
   },
   "file_extension": ".py",
   "mimetype": "text/x-python",
   "name": "python",
   "nbconvert_exporter": "python",
   "pygments_lexer": "ipython2",
   "version": "2.7.13"
  }
 },
 "nbformat": 4,
 "nbformat_minor": 2
}
